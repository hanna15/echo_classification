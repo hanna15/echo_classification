{
 "cells": [
  {
   "cell_type": "code",
   "execution_count": 1,
   "id": "a535b3b8",
   "metadata": {},
   "outputs": [],
   "source": [
    "import os\n",
    "import numpy as np\n",
    "from sklearn.metrics import f1_score, accuracy_score, balanced_accuracy_score, roc_auc_score, classification_report, confusion_matrix"
   ]
  },
  {
   "cell_type": "code",
   "execution_count": 11,
   "id": "3915e5f8",
   "metadata": {},
   "outputs": [],
   "source": [
    "res_base_dir = '/Users/hragnarsd/Documents/masters/results'\n",
    "folds = [0, 1, 2, 3, 4]\n",
    "result_folders = [f'{res_base_dir}/fold{fold}' for fold in folds]"
   ]
  },
  {
   "cell_type": "code",
   "execution_count": 12,
   "id": "d31e338d",
   "metadata": {},
   "outputs": [],
   "source": [
    "max_epochs = [10, 14, 120, 250, 152]\n",
    "model_names = [f'res_simple_adamw_lt_2d.k{fold}.lr_0.001.batch_128_aug_bal_hist_drop0.5_e{e}' for fold, e in zip(folds, max_epochs)]"
   ]
  },
  {
   "cell_type": "code",
   "execution_count": 28,
   "id": "0a1e945c",
   "metadata": {},
   "outputs": [],
   "source": [
    "def print_all_metrics(true, pred):\n",
    "    print(classification_report(true, pred))\n",
    "    print(confusion_matrix(true, pred))\n",
    "    print()\n",
    "    print(f\"f1 macro: {f1_score(true, pred, average='macro'):.2f}\")\n",
    "    print(f\"f1 micro: {f1_score(true, pred, average='micro'):.2f}\")\n",
    "    print(f\"f1 binary: {f1_score(true, pred, average='binary'):.2f}\")\n",
    "    print(f\"f1 weighted: {f1_score(true, pred, average='weighted'):.2f}\")\n",
    "    print()\n",
    "    print(f\"roc_auc macro: {roc_auc_score(true, pred, average='macro'):.2f}\")\n",
    "    print(f\"roc_auc micro: {roc_auc_score(true,  pred, average='micro'):.2f}\")\n",
    "    print(f\"roc_auc weighted: {roc_auc_score(true, pred, average='weighted'):.2f}\")\n",
    "    print()\n",
    "    print(f\"balanced accuracy: {balanced_accuracy_score(true, pred):.2f}\")"
   ]
  },
  {
   "cell_type": "code",
   "execution_count": 89,
   "id": "e9bb2dbe",
   "metadata": {},
   "outputs": [],
   "source": [
    "def res_for_patient(samples, targets, preds, patient_id=30):\n",
    "    patient_targets = []\n",
    "    patient_preds = []\n",
    "    patient_samples = []\n",
    "    for s, t, p in zip(samples, targets, preds):\n",
    "        # print(s)\n",
    "        curr_patient_id = s.split('_')[0] \n",
    "        if int(curr_patient_id) == patient_id:\n",
    "            patient_targets.append(t)\n",
    "            patient_preds.append(p)\n",
    "            patient_samples.append(s)\n",
    "    return patient_samples, patient_targets, patient_preds, "
   ]
  },
  {
   "cell_type": "code",
   "execution_count": 152,
   "id": "e3609abb",
   "metadata": {},
   "outputs": [],
   "source": [
    "def get_results(base_model, res_base_dir):\n",
    "    \"\"\"\n",
    "    base_model is the name of the model for any one fold, e.g. the first fold, without epoch info\n",
    "    \"\"\"\n",
    "    model_name_p1 = base_model.split('.k')[0]\n",
    "    model_name_p2 = base_model.split('.lr')[1]\n",
    "    print(model_name_p1, model_name_p2)\n",
    "\n",
    "    folds = [0, 1, 2, 3, 4]\n",
    "    result_folders = [f'{res_base_dir}/fold{fold}' for fold in folds]\n",
    "    base_model_names = [f'{model_name_p1}.k{fold}.lr{model_name_p2}' for fold in folds]\n",
    "\n",
    "    \n",
    "    # Get max epochs\n",
    "    max_epochs = []\n",
    "    for fold_dir, model_name in zip(result_folders, base_model_names):\n",
    "        max_epoch = -1\n",
    "        for file in os.listdir(fold_dir):\n",
    "            file_wout_epoch, epoch = file.split('_e')\n",
    "            if file_wout_epoch == model_name:\n",
    "                if epoch > max_epoch:\n",
    "                    max_epoch = epoch\n",
    "        max_epochs.append(max_epoch)\n",
    "    \n",
    "    print('max epochs', max_epochs)\n",
    "    # Get results, given max epochs\n",
    "    total_val_preds = []\n",
    "    total_val_targets = []\n",
    "    total_val_samples = []\n",
    "    model_names = [f'{base_name}_e{epoch}' for base_name, epoch in zip(base_model_names, max_epochs)]\n",
    "    for result_folder, model_name in zip(result_folders, model_names):\n",
    "        res_subdir = os.path.join(result_folder, model_name)\n",
    "        val_preds = np.load(os.path.join(res_subdir, 'val_preds_' + model_name + '.npy'))\n",
    "        total_val_preds.extend(val_preds)\n",
    "        val_targets = np.load(os.path.join(res_subdir, 'val_targets_' + model_name + '.npy'))\n",
    "        total_val_targets.extend(val_targets)\n",
    "        val_samples = np.load(os.path.join(res_subdir, 'val_samples_' + model_name + '.npy'))\n",
    "        total_val_samples.extend(val_samples)\n",
    "    \n",
    "    print_all_metrics(total_val_targets, total_val_preds)\n",
    "    return total_val_samples, total_val_targets, total_val_preds"
   ]
  },
  {
   "cell_type": "code",
   "execution_count": 46,
   "id": "8320f5b7",
   "metadata": {},
   "outputs": [],
   "source": [
    "# Augment, histo, balanced data per epoch"
   ]
  },
  {
   "cell_type": "code",
   "execution_count": 72,
   "id": "4f17475a",
   "metadata": {},
   "outputs": [
    {
     "name": "stdout",
     "output_type": "stream",
     "text": [
      "[30, 31, 34, 36, 37, 38, 39, 41, 48, 49, 50, 55, 56, 57, 58, 60, 61, 62, 67, 68, 69, 71, 72, 73, 78, 79, 82, 86, 87, 88, 90, 91, 92, 93, 94, 95, 96, 97, 99, 100, 101, 103, 104, 105, 107, 108, 110, 111, 112, 113, 115, 118, 119, 120, 121, 123, 124, 130, 131, 132, 133, 135, 136, 137, 138, 139, 143, 144, 145, 146, 147, 149, 150, 151, 155, 157, 159, 160, 161, 162, 164, 165, 167, 168, 170, 172, 174, 175, 176, 177, 178, 179, 183, 186, 187, 188, 189, 191, 192, 193, 194, 195, 196, 198, 200, 202, 203, 204, 208, 209, 210, 211, 213, 214, 215, 216, 219, 221, 223, 225, 227, 228, 230, 231, 232, 233, 234, 235, 237, 239]\n"
     ]
    }
   ],
   "source": [
    "unique_val_samples = [int(s) for s in np.unique(patients)]\n",
    "print(sorted(unique_val_samples))\n",
    "dict = "
   ]
  },
  {
   "cell_type": "code",
   "execution_count": 134,
   "id": "5b5b5537",
   "metadata": {},
   "outputs": [
    {
     "name": "stdout",
     "output_type": "stream",
     "text": [
      "[17, 18, 24, 25, 27, 35, 45, 46, 47, 48, 57, 66, 67]\n"
     ]
    }
   ],
   "source": [
    "patient = 192\n",
    "frames = []\n",
    "for s in samples:\n",
    "    if s.startswith(str(patient)):\n",
    "        frames.append(int(s.split('_')[1]))\n",
    "print(frames)"
   ]
  },
  {
   "cell_type": "code",
   "execution_count": 124,
   "id": "ba705751",
   "metadata": {},
   "outputs": [
    {
     "name": "stdout",
     "output_type": "stream",
     "text": [
      "159_46\n",
      "159_47\n",
      "159_48\n",
      "159_49\n",
      "159_50\n",
      "159_56\n",
      "159_57\n",
      "159_58\n",
      "159_59\n",
      "159_70\n",
      "159_90\n",
      "159_91\n",
      "159_124\n"
     ]
    }
   ],
   "source": [
    "for s in samples:\n",
    "    if s.startswith('159'):\n",
    "        print(s)"
   ]
  },
  {
   "cell_type": "code",
   "execution_count": 142,
   "id": "805ada2f",
   "metadata": {
    "scrolled": false
   },
   "outputs": [
    {
     "name": "stdout",
     "output_type": "stream",
     "text": [
      "104 0.15384615384615385 1\n",
      "124 0.07692307692307693 1\n",
      "137 0.0 1\n",
      "159 0.0 1\n",
      "160 0.0 1\n",
      "192 0.3076923076923077 1\n",
      "195 0.21428571428571427 1\n",
      "214 0.0 1\n",
      "94 0.3333333333333333 1\n",
      "              precision    recall  f1-score   support\n",
      "\n",
      "           0       0.89      0.82      0.85        87\n",
      "           1       0.68      0.79      0.73        43\n",
      "\n",
      "    accuracy                           0.81       130\n",
      "   macro avg       0.78      0.80      0.79       130\n",
      "weighted avg       0.82      0.81      0.81       130\n",
      "\n",
      "[[71 16]\n",
      " [ 9 34]]\n",
      "\n",
      "f1 macro: 0.79\n",
      "f1 micro: 0.81\n",
      "f1 binary: 0.73\n",
      "f1 weighted: 0.81\n",
      "\n",
      "roc_auc macro: 0.80\n",
      "roc_auc micro: 0.80\n",
      "roc_auc weighted: 0.80\n",
      "\n",
      "balanced accuracy: 0.80\n"
     ]
    }
   ],
   "source": [
    "preds_per_sample = []\n",
    "targets_per_sample = []\n",
    "for id in unique_val_samples:\n",
    "# for id in [135, 137, 155, 159, 160, 162, 214]:\n",
    "    p_samples, p_targets, p_preds = res_for_patient(samples, targets, preds, patient_id=id)\n",
    "    p_preds = np.asarray(p_preds)\n",
    "\n",
    "    percentage_label_1 = p_preds.sum()/len(p_preds)\n",
    "    if p_targets[0] == 1 and percentage_label_1 < 0.4:\n",
    "        print(id, percentage_label_1, p_targets[0])\n",
    "    if percentage_label_1 >= 0.5:\n",
    "        pred = 1\n",
    "    else:\n",
    "        pred = 0\n",
    "\n",
    "    preds_per_sample.append(pred)\n",
    "    targets_per_sample.append(p_targets[0]) # always same target val\n",
    "\n",
    "print_all_metrics(targets_per_sample, preds_per_sample)"
   ]
  },
  {
   "cell_type": "code",
   "execution_count": 80,
   "id": "063619b9",
   "metadata": {},
   "outputs": [
    {
     "name": "stdout",
     "output_type": "stream",
     "text": [
      "res_simple_adamw_lt_2d _0.001.batch_128_aug_bal_hist_drop0.5\n",
      "max epochs [10, 14, 120, 250, 152]\n",
      "              precision    recall  f1-score   support\n",
      "\n",
      "           0       0.87      0.78      0.82      1694\n",
      "           1       0.64      0.77      0.70       846\n",
      "\n",
      "    accuracy                           0.78      2540\n",
      "   macro avg       0.75      0.78      0.76      2540\n",
      "weighted avg       0.79      0.78      0.78      2540\n",
      "\n",
      "[[1326  368]\n",
      " [ 196  650]]\n",
      "\n",
      "f1 macro: 0.76\n",
      "f1 micro: 0.78\n",
      "f1 binary: 0.70\n",
      "f1 weighted: 0.78\n",
      "\n",
      "roc_auc macro: 0.78\n",
      "roc_auc micro: 0.78\n",
      "roc_auc weighted: 0.78\n",
      "\n",
      "balanced accuracy: 0.78\n"
     ]
    }
   ],
   "source": [
    "# samples always same for all models (could actually just store 1x => order same bc don't shuffle valid data)\n",
    "samples, targets, preds = get_results('res_simple_adamw_lt_2d.k0.lr_0.001.batch_128_aug_bal_hist_drop0.5', res_base_dir)"
   ]
  },
  {
   "cell_type": "code",
   "execution_count": 65,
   "id": "e6c3c3a0",
   "metadata": {},
   "outputs": [
    {
     "name": "stdout",
     "output_type": "stream",
     "text": [
      "len x 195\n",
      "len unique 130\n",
      "no repeated patients 65\n"
     ]
    }
   ],
   "source": [
    "patients = [s.split('_')[0] for s in samples]\n",
    "# print(patients[0])\n",
    "x = []\n",
    "x.append(patients[0])\n",
    "for i in range(len(patients)):\n",
    "    if i > 0:\n",
    "        if patients[i] != patients[i - 1]:\n",
    "            # print(patients[i])\n",
    "            x.append(patients[i])\n",
    "print('len x', len(x))\n",
    "print('len unique', len(np.unique(patients)))\n",
    "print('no repeated patients', len(x) - len(np.unique(patients))) # 65 repeated patients (!)"
   ]
  },
  {
   "cell_type": "code",
   "execution_count": 64,
   "id": "50ac215d",
   "metadata": {},
   "outputs": [
    {
     "name": "stdout",
     "output_type": "stream",
     "text": [
      "res_simple_adamw_lt_2d _0.001.batch_128_aug_w_hist_drop0.5\n",
      "max epochs [38, 152, 226, 38, 38]\n",
      "              precision    recall  f1-score   support\n",
      "\n",
      "           0       0.83      0.81      0.82      1694\n",
      "           1       0.63      0.67      0.65       846\n",
      "\n",
      "    accuracy                           0.76      2540\n",
      "   macro avg       0.73      0.74      0.74      2540\n",
      "weighted avg       0.77      0.76      0.76      2540\n",
      "\n",
      "[[1367  327]\n",
      " [ 278  568]]\n",
      "\n",
      "f1 macro: 0.74\n",
      "f1 micro: 0.76\n",
      "f1 binary: 0.65\n",
      "f1 weighted: 0.76\n",
      "\n",
      "roc_auc macro: 0.74\n",
      "roc_auc micro: 0.74\n",
      "roc_auc weighted: 0.74\n",
      "\n",
      "balanced accuracy: 0.74\n"
     ]
    }
   ],
   "source": [
    "get_results('res_simple_adamw_lt_2d.k0.lr_0.001.batch_128_aug_w_hist_drop0.5', res_base_dir)"
   ]
  },
  {
   "cell_type": "code",
   "execution_count": 33,
   "id": "a7d9601e",
   "metadata": {},
   "outputs": [
    {
     "name": "stdout",
     "output_type": "stream",
     "text": [
      "res_simple_adamw_lt_2d _0.001.batch_128_hist_drop0.5\n",
      "max epochs [162, 164, 64, 276, 66]\n",
      "              precision    recall  f1-score   support\n",
      "\n",
      "           0       0.84      0.82      0.83      1694\n",
      "           1       0.65      0.70      0.67       846\n",
      "\n",
      "    accuracy                           0.78      2540\n",
      "   macro avg       0.75      0.76      0.75      2540\n",
      "weighted avg       0.78      0.78      0.78      2540\n",
      "\n",
      "[[1381  313]\n",
      " [ 257  589]]\n",
      "\n",
      "f1 macro: 0.75\n",
      "f1 micro: 0.78\n",
      "f1 binary: 0.67\n",
      "f1 weighted: 0.78\n",
      "\n",
      "roc_auc macro: 0.76\n",
      "roc_auc micro: 0.76\n",
      "roc_auc weighted: 0.76\n",
      "\n",
      "balanced accuracy: 0.76\n"
     ]
    }
   ],
   "source": [
    "get_results('res_simple_adamw_lt_2d.k0.lr_0.001.batch_128_hist_drop0.5', res_base_dir)"
   ]
  },
  {
   "cell_type": "code",
   "execution_count": 36,
   "id": "213d986b",
   "metadata": {},
   "outputs": [
    {
     "name": "stdout",
     "output_type": "stream",
     "text": [
      "res_simple_adamw_lt_2d _0.0001.batch_128_aug_bal_hist_drop0.5\n",
      "max epochs [18, 42, 244, 202, 266]\n",
      "              precision    recall  f1-score   support\n",
      "\n",
      "           0       0.83      0.76      0.79      1694\n",
      "           1       0.58      0.68      0.63       846\n",
      "\n",
      "    accuracy                           0.73      2540\n",
      "   macro avg       0.70      0.72      0.71      2540\n",
      "weighted avg       0.75      0.73      0.74      2540\n",
      "\n",
      "[[1282  412]\n",
      " [ 269  577]]\n",
      "\n",
      "f1 macro: 0.71\n",
      "f1 micro: 0.73\n",
      "f1 binary: 0.63\n",
      "f1 weighted: 0.74\n",
      "\n",
      "roc_auc macro: 0.72\n",
      "roc_auc micro: 0.72\n",
      "roc_auc weighted: 0.72\n",
      "\n",
      "balanced accuracy: 0.72\n"
     ]
    }
   ],
   "source": [
    "get_results('res_simple_adamw_lt_2d.k0.lr_0.0001.batch_128_aug_bal_hist_drop0.5', res_base_dir)"
   ]
  },
  {
   "cell_type": "code",
   "execution_count": 38,
   "id": "f2504933",
   "metadata": {},
   "outputs": [
    {
     "name": "stdout",
     "output_type": "stream",
     "text": [
      "res_simple_adamw_lt_2d _0.0001.batch_128_aug_w_hist_drop0.5\n",
      "max epochs [40, 54, 112, 198, 254]\n",
      "              precision    recall  f1-score   support\n",
      "\n",
      "           0       0.86      0.70      0.77      1694\n",
      "           1       0.56      0.76      0.65       846\n",
      "\n",
      "    accuracy                           0.72      2540\n",
      "   macro avg       0.71      0.73      0.71      2540\n",
      "weighted avg       0.76      0.72      0.73      2540\n",
      "\n",
      "[[1189  505]\n",
      " [ 201  645]]\n",
      "\n",
      "f1 macro: 0.71\n",
      "f1 micro: 0.72\n",
      "f1 binary: 0.65\n",
      "f1 weighted: 0.73\n",
      "\n",
      "roc_auc macro: 0.73\n",
      "roc_auc micro: 0.73\n",
      "roc_auc weighted: 0.73\n",
      "\n",
      "balanced accuracy: 0.73\n"
     ]
    }
   ],
   "source": [
    "get_results('res_simple_adamw_lt_2d.k0.lr_0.0001.batch_128_aug_w_hist_drop0.5', res_base_dir)"
   ]
  },
  {
   "cell_type": "code",
   "execution_count": 37,
   "id": "f4458048",
   "metadata": {},
   "outputs": [
    {
     "name": "stdout",
     "output_type": "stream",
     "text": [
      "res_simple_adamw_lt_2d _0.001.batch_1280.0510.0_aug_bal_hist_drop0.5\n",
      "max epochs [12, 6, 30, 12, 16]\n",
      "              precision    recall  f1-score   support\n",
      "\n",
      "           0       0.83      0.70      0.76      1694\n",
      "           1       0.54      0.71      0.61       846\n",
      "\n",
      "    accuracy                           0.70      2540\n",
      "   macro avg       0.68      0.70      0.68      2540\n",
      "weighted avg       0.73      0.70      0.71      2540\n",
      "\n",
      "[[1179  515]\n",
      " [ 244  602]]\n",
      "\n",
      "f1 macro: 0.68\n",
      "f1 micro: 0.70\n",
      "f1 binary: 0.61\n",
      "f1 weighted: 0.71\n",
      "\n",
      "roc_auc macro: 0.70\n",
      "roc_auc micro: 0.70\n",
      "roc_auc weighted: 0.70\n",
      "\n",
      "balanced accuracy: 0.70\n"
     ]
    }
   ],
   "source": [
    "get_results('res_simple_adamw_lt_2d.k0.lr_0.001.batch_1280.0510.0_aug_bal_hist_drop0.5', res_base_dir)"
   ]
  },
  {
   "cell_type": "code",
   "execution_count": 39,
   "id": "4f6527b0",
   "metadata": {},
   "outputs": [
    {
     "name": "stdout",
     "output_type": "stream",
     "text": [
      "res_simple_adamw_lt_2d _0.001.batch_128_aug_bal_hist_drop0.25\n",
      "max epochs [84, 128, 110, 130, 176]\n",
      "              precision    recall  f1-score   support\n",
      "\n",
      "           0       0.85      0.82      0.83      1694\n",
      "           1       0.66      0.71      0.68       846\n",
      "\n",
      "    accuracy                           0.78      2540\n",
      "   macro avg       0.75      0.76      0.76      2540\n",
      "weighted avg       0.79      0.78      0.78      2540\n",
      "\n",
      "[[1384  310]\n",
      " [ 245  601]]\n",
      "\n",
      "f1 macro: 0.76\n",
      "f1 micro: 0.78\n",
      "f1 binary: 0.68\n",
      "f1 weighted: 0.78\n",
      "\n",
      "roc_auc macro: 0.76\n",
      "roc_auc micro: 0.76\n",
      "roc_auc weighted: 0.76\n",
      "\n",
      "balanced accuracy: 0.76\n"
     ]
    }
   ],
   "source": [
    "get_results('res_simple_adamw_lt_2d.k0.lr_0.001.batch_128_aug_bal_hist_drop0.25', res_base_dir)"
   ]
  },
  {
   "cell_type": "code",
   "execution_count": 40,
   "id": "055d385e",
   "metadata": {},
   "outputs": [
    {
     "name": "stdout",
     "output_type": "stream",
     "text": [
      "res_simple_adamw_lt_2d _0.001.batch_128_aug_w_hist_drop0.25\n",
      "max epochs [170, 8, 234, 134, 210]\n",
      "              precision    recall  f1-score   support\n",
      "\n",
      "           0       0.84      0.80      0.82      1694\n",
      "           1       0.63      0.69      0.66       846\n",
      "\n",
      "    accuracy                           0.76      2540\n",
      "   macro avg       0.73      0.74      0.74      2540\n",
      "weighted avg       0.77      0.76      0.76      2540\n",
      "\n",
      "[[1348  346]\n",
      " [ 261  585]]\n",
      "\n",
      "f1 macro: 0.74\n",
      "f1 micro: 0.76\n",
      "f1 binary: 0.66\n",
      "f1 weighted: 0.76\n",
      "\n",
      "roc_auc macro: 0.74\n",
      "roc_auc micro: 0.74\n",
      "roc_auc weighted: 0.74\n",
      "\n",
      "balanced accuracy: 0.74\n"
     ]
    }
   ],
   "source": [
    "get_results('res_simple_adamw_lt_2d.k4.lr_0.001.batch_128_aug_w_hist_drop0.25', res_base_dir)"
   ]
  },
  {
   "cell_type": "code",
   "execution_count": 41,
   "id": "5cf8fc2e",
   "metadata": {},
   "outputs": [
    {
     "name": "stdout",
     "output_type": "stream",
     "text": [
      "res_simple_adamw_lt_2d _0.001.batch_128_aug_bal_hist_drop0.6\n",
      "max epochs [16, 230, 110, 250, 144]\n",
      "              precision    recall  f1-score   support\n",
      "\n",
      "           0       0.85      0.81      0.83      1694\n",
      "           1       0.65      0.71      0.68       846\n",
      "\n",
      "    accuracy                           0.78      2540\n",
      "   macro avg       0.75      0.76      0.75      2540\n",
      "weighted avg       0.78      0.78      0.78      2540\n",
      "\n",
      "[[1373  321]\n",
      " [ 246  600]]\n",
      "\n",
      "f1 macro: 0.75\n",
      "f1 micro: 0.78\n",
      "f1 binary: 0.68\n",
      "f1 weighted: 0.78\n",
      "\n",
      "roc_auc macro: 0.76\n",
      "roc_auc micro: 0.76\n",
      "roc_auc weighted: 0.76\n",
      "\n",
      "balanced accuracy: 0.76\n"
     ]
    }
   ],
   "source": [
    "get_results('res_simple_adamw_lt_2d.k4.lr_0.001.batch_128_aug_bal_hist_drop0.6', res_base_dir)"
   ]
  },
  {
   "cell_type": "code",
   "execution_count": 42,
   "id": "d6da5afd",
   "metadata": {},
   "outputs": [
    {
     "name": "stdout",
     "output_type": "stream",
     "text": [
      "res_simple_adamw_lt_2d _0.001.batch_128_aug_w_hist_drop0.6\n",
      "max epochs [60, 44, 106, 276, 72]\n",
      "              precision    recall  f1-score   support\n",
      "\n",
      "           0       0.85      0.82      0.83      1694\n",
      "           1       0.66      0.71      0.68       846\n",
      "\n",
      "    accuracy                           0.78      2540\n",
      "   macro avg       0.75      0.76      0.76      2540\n",
      "weighted avg       0.78      0.78      0.78      2540\n",
      "\n",
      "[[1382  312]\n",
      " [ 247  599]]\n",
      "\n",
      "f1 macro: 0.76\n",
      "f1 micro: 0.78\n",
      "f1 binary: 0.68\n",
      "f1 weighted: 0.78\n",
      "\n",
      "roc_auc macro: 0.76\n",
      "roc_auc micro: 0.76\n",
      "roc_auc weighted: 0.76\n",
      "\n",
      "balanced accuracy: 0.76\n"
     ]
    }
   ],
   "source": [
    "get_results('res_simple_adamw_lt_2d.k4.lr_0.001.batch_128_aug_w_hist_drop0.6', res_base_dir)"
   ]
  },
  {
   "cell_type": "markdown",
   "id": "cfdd2fe4",
   "metadata": {},
   "source": [
    "### Other methods"
   ]
  },
  {
   "cell_type": "code",
   "execution_count": 153,
   "id": "80a88f98",
   "metadata": {},
   "outputs": [
    {
     "name": "stdout",
     "output_type": "stream",
     "text": [
      "resnet_adamw_lt_2d _0.001.batch_128_aug_bal_hist\n",
      "max epochs [-1, -1, -1, -1, -1]\n"
     ]
    },
    {
     "ename": "FileNotFoundError",
     "evalue": "[Errno 2] No such file or directory: '/Users/hragnarsd/Documents/masters/results/fold0/resnet_adamw_lt_2d.k0.lr_0.001.batch_128_aug_bal_hist_e-1/val_preds_resnet_adamw_lt_2d.k0.lr_0.001.batch_128_aug_bal_hist_e-1.npy'",
     "output_type": "error",
     "traceback": [
      "\u001b[0;31m---------------------------------------------------------------------------\u001b[0m",
      "\u001b[0;31mFileNotFoundError\u001b[0m                         Traceback (most recent call last)",
      "\u001b[0;32m/var/folders/59/jljwj3ys2gbdt5j4dxktryzr0000gn/T/ipykernel_57930/2741702704.py\u001b[0m in \u001b[0;36m<module>\u001b[0;34m\u001b[0m\n\u001b[0;32m----> 1\u001b[0;31m \u001b[0mget_results\u001b[0m\u001b[0;34m(\u001b[0m\u001b[0;34m'resnet_adamw_lt_2d.k0.lr_0.001.batch_128_aug_bal_hist'\u001b[0m\u001b[0;34m,\u001b[0m \u001b[0mres_base_dir\u001b[0m\u001b[0;34m)\u001b[0m\u001b[0;34m\u001b[0m\u001b[0;34m\u001b[0m\u001b[0m\n\u001b[0m",
      "\u001b[0;32m/var/folders/59/jljwj3ys2gbdt5j4dxktryzr0000gn/T/ipykernel_57930/3691663361.py\u001b[0m in \u001b[0;36mget_results\u001b[0;34m(base_model, res_base_dir)\u001b[0m\n\u001b[1;32m     31\u001b[0m     \u001b[0;32mfor\u001b[0m \u001b[0mresult_folder\u001b[0m\u001b[0;34m,\u001b[0m \u001b[0mmodel_name\u001b[0m \u001b[0;32min\u001b[0m \u001b[0mzip\u001b[0m\u001b[0;34m(\u001b[0m\u001b[0mresult_folders\u001b[0m\u001b[0;34m,\u001b[0m \u001b[0mmodel_names\u001b[0m\u001b[0;34m)\u001b[0m\u001b[0;34m:\u001b[0m\u001b[0;34m\u001b[0m\u001b[0;34m\u001b[0m\u001b[0m\n\u001b[1;32m     32\u001b[0m         \u001b[0mres_subdir\u001b[0m \u001b[0;34m=\u001b[0m \u001b[0mos\u001b[0m\u001b[0;34m.\u001b[0m\u001b[0mpath\u001b[0m\u001b[0;34m.\u001b[0m\u001b[0mjoin\u001b[0m\u001b[0;34m(\u001b[0m\u001b[0mresult_folder\u001b[0m\u001b[0;34m,\u001b[0m \u001b[0mmodel_name\u001b[0m\u001b[0;34m)\u001b[0m\u001b[0;34m\u001b[0m\u001b[0;34m\u001b[0m\u001b[0m\n\u001b[0;32m---> 33\u001b[0;31m         \u001b[0mval_preds\u001b[0m \u001b[0;34m=\u001b[0m \u001b[0mnp\u001b[0m\u001b[0;34m.\u001b[0m\u001b[0mload\u001b[0m\u001b[0;34m(\u001b[0m\u001b[0mos\u001b[0m\u001b[0;34m.\u001b[0m\u001b[0mpath\u001b[0m\u001b[0;34m.\u001b[0m\u001b[0mjoin\u001b[0m\u001b[0;34m(\u001b[0m\u001b[0mres_subdir\u001b[0m\u001b[0;34m,\u001b[0m \u001b[0;34m'val_preds_'\u001b[0m \u001b[0;34m+\u001b[0m \u001b[0mmodel_name\u001b[0m \u001b[0;34m+\u001b[0m \u001b[0;34m'.npy'\u001b[0m\u001b[0;34m)\u001b[0m\u001b[0;34m)\u001b[0m\u001b[0;34m\u001b[0m\u001b[0;34m\u001b[0m\u001b[0m\n\u001b[0m\u001b[1;32m     34\u001b[0m         \u001b[0mtotal_val_preds\u001b[0m\u001b[0;34m.\u001b[0m\u001b[0mextend\u001b[0m\u001b[0;34m(\u001b[0m\u001b[0mval_preds\u001b[0m\u001b[0;34m)\u001b[0m\u001b[0;34m\u001b[0m\u001b[0;34m\u001b[0m\u001b[0m\n\u001b[1;32m     35\u001b[0m         \u001b[0mval_targets\u001b[0m \u001b[0;34m=\u001b[0m \u001b[0mnp\u001b[0m\u001b[0;34m.\u001b[0m\u001b[0mload\u001b[0m\u001b[0;34m(\u001b[0m\u001b[0mos\u001b[0m\u001b[0;34m.\u001b[0m\u001b[0mpath\u001b[0m\u001b[0;34m.\u001b[0m\u001b[0mjoin\u001b[0m\u001b[0;34m(\u001b[0m\u001b[0mres_subdir\u001b[0m\u001b[0;34m,\u001b[0m \u001b[0;34m'val_targets_'\u001b[0m \u001b[0;34m+\u001b[0m \u001b[0mmodel_name\u001b[0m \u001b[0;34m+\u001b[0m \u001b[0;34m'.npy'\u001b[0m\u001b[0;34m)\u001b[0m\u001b[0;34m)\u001b[0m\u001b[0;34m\u001b[0m\u001b[0;34m\u001b[0m\u001b[0m\n",
      "\u001b[0;32m~/opt/anaconda3/envs/thesis/lib/python3.9/site-packages/numpy/lib/npyio.py\u001b[0m in \u001b[0;36mload\u001b[0;34m(file, mmap_mode, allow_pickle, fix_imports, encoding)\u001b[0m\n\u001b[1;32m    415\u001b[0m             \u001b[0mown_fid\u001b[0m \u001b[0;34m=\u001b[0m \u001b[0;32mFalse\u001b[0m\u001b[0;34m\u001b[0m\u001b[0;34m\u001b[0m\u001b[0m\n\u001b[1;32m    416\u001b[0m         \u001b[0;32melse\u001b[0m\u001b[0;34m:\u001b[0m\u001b[0;34m\u001b[0m\u001b[0;34m\u001b[0m\u001b[0m\n\u001b[0;32m--> 417\u001b[0;31m             \u001b[0mfid\u001b[0m \u001b[0;34m=\u001b[0m \u001b[0mstack\u001b[0m\u001b[0;34m.\u001b[0m\u001b[0menter_context\u001b[0m\u001b[0;34m(\u001b[0m\u001b[0mopen\u001b[0m\u001b[0;34m(\u001b[0m\u001b[0mos_fspath\u001b[0m\u001b[0;34m(\u001b[0m\u001b[0mfile\u001b[0m\u001b[0;34m)\u001b[0m\u001b[0;34m,\u001b[0m \u001b[0;34m\"rb\"\u001b[0m\u001b[0;34m)\u001b[0m\u001b[0;34m)\u001b[0m\u001b[0;34m\u001b[0m\u001b[0;34m\u001b[0m\u001b[0m\n\u001b[0m\u001b[1;32m    418\u001b[0m             \u001b[0mown_fid\u001b[0m \u001b[0;34m=\u001b[0m \u001b[0;32mTrue\u001b[0m\u001b[0;34m\u001b[0m\u001b[0;34m\u001b[0m\u001b[0m\n\u001b[1;32m    419\u001b[0m \u001b[0;34m\u001b[0m\u001b[0m\n",
      "\u001b[0;31mFileNotFoundError\u001b[0m: [Errno 2] No such file or directory: '/Users/hragnarsd/Documents/masters/results/fold0/resnet_adamw_lt_2d.k0.lr_0.001.batch_128_aug_bal_hist_e-1/val_preds_resnet_adamw_lt_2d.k0.lr_0.001.batch_128_aug_bal_hist_e-1.npy'"
     ]
    }
   ],
   "source": [
    "get_results('resnet_adamw_lt_2d.k0.lr_0.001.batch_128_aug_bal_hist', res_base_dir)"
   ]
  },
  {
   "cell_type": "code",
   "execution_count": 144,
   "id": "c7fd402f",
   "metadata": {},
   "outputs": [
    {
     "name": "stdout",
     "output_type": "stream",
     "text": [
      "resnet_adam_lt_2d _0.001.batch_128_aug_bal_hist\n",
      "max epochs [-1, -1, -1, -1, -1]\n"
     ]
    },
    {
     "ename": "FileNotFoundError",
     "evalue": "[Errno 2] No such file or directory: '/Users/hragnarsd/Documents/masters/results/fold0/resnet_adam_lt_2d.k0.lr_0.001.batch_128_aug_bal_hist_e-1/val_preds_resnet_adam_lt_2d.k0.lr_0.001.batch_128_aug_bal_hist_e-1.npy'",
     "output_type": "error",
     "traceback": [
      "\u001b[0;31m---------------------------------------------------------------------------\u001b[0m",
      "\u001b[0;31mFileNotFoundError\u001b[0m                         Traceback (most recent call last)",
      "\u001b[0;32m/var/folders/59/jljwj3ys2gbdt5j4dxktryzr0000gn/T/ipykernel_57930/3298578671.py\u001b[0m in \u001b[0;36m<module>\u001b[0;34m\u001b[0m\n\u001b[0;32m----> 1\u001b[0;31m \u001b[0mget_results\u001b[0m\u001b[0;34m(\u001b[0m\u001b[0;34m'resnet_adam_lt_2d.k0.lr_0.001.batch_128_aug_bal_hist'\u001b[0m\u001b[0;34m,\u001b[0m \u001b[0mres_base_dir\u001b[0m\u001b[0;34m)\u001b[0m\u001b[0;34m\u001b[0m\u001b[0;34m\u001b[0m\u001b[0m\n\u001b[0m",
      "\u001b[0;32m/var/folders/59/jljwj3ys2gbdt5j4dxktryzr0000gn/T/ipykernel_57930/818579253.py\u001b[0m in \u001b[0;36mget_results\u001b[0;34m(base_model, res_base_dir)\u001b[0m\n\u001b[1;32m     32\u001b[0m     \u001b[0;32mfor\u001b[0m \u001b[0mresult_folder\u001b[0m\u001b[0;34m,\u001b[0m \u001b[0mmodel_name\u001b[0m \u001b[0;32min\u001b[0m \u001b[0mzip\u001b[0m\u001b[0;34m(\u001b[0m\u001b[0mresult_folders\u001b[0m\u001b[0;34m,\u001b[0m \u001b[0mmodel_names\u001b[0m\u001b[0;34m)\u001b[0m\u001b[0;34m:\u001b[0m\u001b[0;34m\u001b[0m\u001b[0;34m\u001b[0m\u001b[0m\n\u001b[1;32m     33\u001b[0m         \u001b[0mres_subdir\u001b[0m \u001b[0;34m=\u001b[0m \u001b[0mos\u001b[0m\u001b[0;34m.\u001b[0m\u001b[0mpath\u001b[0m\u001b[0;34m.\u001b[0m\u001b[0mjoin\u001b[0m\u001b[0;34m(\u001b[0m\u001b[0mresult_folder\u001b[0m\u001b[0;34m,\u001b[0m \u001b[0mmodel_name\u001b[0m\u001b[0;34m)\u001b[0m\u001b[0;34m\u001b[0m\u001b[0;34m\u001b[0m\u001b[0m\n\u001b[0;32m---> 34\u001b[0;31m         \u001b[0mval_preds\u001b[0m \u001b[0;34m=\u001b[0m \u001b[0mnp\u001b[0m\u001b[0;34m.\u001b[0m\u001b[0mload\u001b[0m\u001b[0;34m(\u001b[0m\u001b[0mos\u001b[0m\u001b[0;34m.\u001b[0m\u001b[0mpath\u001b[0m\u001b[0;34m.\u001b[0m\u001b[0mjoin\u001b[0m\u001b[0;34m(\u001b[0m\u001b[0mres_subdir\u001b[0m\u001b[0;34m,\u001b[0m \u001b[0;34m'val_preds_'\u001b[0m \u001b[0;34m+\u001b[0m \u001b[0mmodel_name\u001b[0m \u001b[0;34m+\u001b[0m \u001b[0;34m'.npy'\u001b[0m\u001b[0;34m)\u001b[0m\u001b[0;34m)\u001b[0m\u001b[0;34m\u001b[0m\u001b[0;34m\u001b[0m\u001b[0m\n\u001b[0m\u001b[1;32m     35\u001b[0m         \u001b[0mtotal_val_preds\u001b[0m\u001b[0;34m.\u001b[0m\u001b[0mextend\u001b[0m\u001b[0;34m(\u001b[0m\u001b[0mval_preds\u001b[0m\u001b[0;34m)\u001b[0m\u001b[0;34m\u001b[0m\u001b[0;34m\u001b[0m\u001b[0m\n\u001b[1;32m     36\u001b[0m         \u001b[0mval_targets\u001b[0m \u001b[0;34m=\u001b[0m \u001b[0mnp\u001b[0m\u001b[0;34m.\u001b[0m\u001b[0mload\u001b[0m\u001b[0;34m(\u001b[0m\u001b[0mos\u001b[0m\u001b[0;34m.\u001b[0m\u001b[0mpath\u001b[0m\u001b[0;34m.\u001b[0m\u001b[0mjoin\u001b[0m\u001b[0;34m(\u001b[0m\u001b[0mres_subdir\u001b[0m\u001b[0;34m,\u001b[0m \u001b[0;34m'val_targets_'\u001b[0m \u001b[0;34m+\u001b[0m \u001b[0mmodel_name\u001b[0m \u001b[0;34m+\u001b[0m \u001b[0;34m'.npy'\u001b[0m\u001b[0;34m)\u001b[0m\u001b[0;34m)\u001b[0m\u001b[0;34m\u001b[0m\u001b[0;34m\u001b[0m\u001b[0m\n",
      "\u001b[0;32m~/opt/anaconda3/envs/thesis/lib/python3.9/site-packages/numpy/lib/npyio.py\u001b[0m in \u001b[0;36mload\u001b[0;34m(file, mmap_mode, allow_pickle, fix_imports, encoding)\u001b[0m\n\u001b[1;32m    415\u001b[0m             \u001b[0mown_fid\u001b[0m \u001b[0;34m=\u001b[0m \u001b[0;32mFalse\u001b[0m\u001b[0;34m\u001b[0m\u001b[0;34m\u001b[0m\u001b[0m\n\u001b[1;32m    416\u001b[0m         \u001b[0;32melse\u001b[0m\u001b[0;34m:\u001b[0m\u001b[0;34m\u001b[0m\u001b[0;34m\u001b[0m\u001b[0m\n\u001b[0;32m--> 417\u001b[0;31m             \u001b[0mfid\u001b[0m \u001b[0;34m=\u001b[0m \u001b[0mstack\u001b[0m\u001b[0;34m.\u001b[0m\u001b[0menter_context\u001b[0m\u001b[0;34m(\u001b[0m\u001b[0mopen\u001b[0m\u001b[0;34m(\u001b[0m\u001b[0mos_fspath\u001b[0m\u001b[0;34m(\u001b[0m\u001b[0mfile\u001b[0m\u001b[0;34m)\u001b[0m\u001b[0;34m,\u001b[0m \u001b[0;34m\"rb\"\u001b[0m\u001b[0;34m)\u001b[0m\u001b[0;34m)\u001b[0m\u001b[0;34m\u001b[0m\u001b[0;34m\u001b[0m\u001b[0m\n\u001b[0m\u001b[1;32m    418\u001b[0m             \u001b[0mown_fid\u001b[0m \u001b[0;34m=\u001b[0m \u001b[0;32mTrue\u001b[0m\u001b[0;34m\u001b[0m\u001b[0;34m\u001b[0m\u001b[0m\n\u001b[1;32m    419\u001b[0m \u001b[0;34m\u001b[0m\u001b[0m\n",
      "\u001b[0;31mFileNotFoundError\u001b[0m: [Errno 2] No such file or directory: '/Users/hragnarsd/Documents/masters/results/fold0/resnet_adam_lt_2d.k0.lr_0.001.batch_128_aug_bal_hist_e-1/val_preds_resnet_adam_lt_2d.k0.lr_0.001.batch_128_aug_bal_hist_e-1.npy'"
     ]
    }
   ],
   "source": [
    "get_results('resnet_adam_lt_2d.k0.lr_0.001.batch_128_aug_bal_hist', res_base_dir)"
   ]
  },
  {
   "cell_type": "code",
   "execution_count": null,
   "id": "0a1dae81",
   "metadata": {},
   "outputs": [],
   "source": [
    "get_results('conv_adamw_lt_2d.k0.lr_0.001.batch_128_aug_bal_hist_drop0.5', res_base_dir)"
   ]
  }
 ],
 "metadata": {
  "kernelspec": {
   "display_name": "Python 3 (ipykernel)",
   "language": "python",
   "name": "python3"
  },
  "language_info": {
   "codemirror_mode": {
    "name": "ipython",
    "version": 3
   },
   "file_extension": ".py",
   "mimetype": "text/x-python",
   "name": "python",
   "nbconvert_exporter": "python",
   "pygments_lexer": "ipython3",
   "version": "3.9.7"
  }
 },
 "nbformat": 4,
 "nbformat_minor": 5
}
