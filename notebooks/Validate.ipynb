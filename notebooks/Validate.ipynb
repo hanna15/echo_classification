{
 "cells": [
  {
   "cell_type": "code",
   "execution_count": 1,
   "id": "a535b3b8",
   "metadata": {},
   "outputs": [],
   "source": [
    "import os\n",
    "import numpy as np\n",
    "from sklearn.metrics import f1_score, accuracy_score, balanced_accuracy_score, roc_auc_score, classification_report, confusion_matrix"
   ]
  },
  {
   "cell_type": "code",
   "execution_count": 11,
   "id": "d7a82155",
   "metadata": {},
   "outputs": [],
   "source": [
    "res_base_dir = '/Users/hragnarsd/Documents/masters/results'\n",
    "folds = [0, 1, 2, 3, 4]\n",
    "result_folders = [f'{res_base_dir}/fold{fold}' for fold in folds]"
   ]
  },
  {
   "cell_type": "code",
   "execution_count": 12,
   "id": "f5f1aa67",
   "metadata": {},
   "outputs": [],
   "source": [
    "max_epochs = [10, 14, 120, 250, 152]\n",
    "model_names = [f'res_simple_adamw_lt_2d.k{fold}.lr_0.001.batch_128_aug_bal_hist_drop0.5_e{e}' for fold, e in zip(folds, max_epochs)]"
   ]
  },
  {
   "cell_type": "code",
   "execution_count": 28,
   "id": "85560035",
   "metadata": {},
   "outputs": [],
   "source": [
    "def print_all_metrics(true, pred):\n",
    "    print(classification_report(true, pred))\n",
    "    print(confusion_matrix(true, pred))\n",
    "    print()\n",
    "    print(f\"f1 macro: {f1_score(true, pred, average='macro'):.2f}\")\n",
    "    print(f\"f1 micro: {f1_score(true, pred, average='micro'):.2f}\")\n",
    "    print(f\"f1 binary: {f1_score(true, pred, average='binary'):.2f}\")\n",
    "    print(f\"f1 weighted: {f1_score(true, pred, average='weighted'):.2f}\")\n",
    "    print()\n",
    "    print(f\"roc_auc macro: {roc_auc_score(true, pred, average='macro'):.2f}\")\n",
    "    print(f\"roc_auc micro: {roc_auc_score(true,  pred, average='micro'):.2f}\")\n",
    "    print(f\"roc_auc weighted: {roc_auc_score(true, pred, average='weighted'):.2f}\")\n",
    "    print()\n",
    "    print(f\"balanced accuracy: {balanced_accuracy_score(true, pred):.2f}\")"
   ]
  },
  {
   "cell_type": "code",
   "execution_count": 89,
   "id": "4d9b060c",
   "metadata": {},
   "outputs": [],
   "source": [
    "def res_for_patient(samples, targets, preds, patient_id=30):\n",
    "    patient_targets = []\n",
    "    patient_preds = []\n",
    "    patient_samples = []\n",
    "    for s, t, p in zip(samples, targets, preds):\n",
    "        # print(s)\n",
    "        curr_patient_id = s.split('_')[0] \n",
    "        if int(curr_patient_id) == patient_id:\n",
    "            patient_targets.append(t)\n",
    "            patient_preds.append(p)\n",
    "            patient_samples.append(s)\n",
    "    return patient_samples, patient_targets, patient_preds, "
   ]
  },
  {
   "cell_type": "code",
   "execution_count": 79,
   "id": "4c5343ae",
   "metadata": {},
   "outputs": [],
   "source": [
    "def get_results(base_model, res_base_dir):\n",
    "    \"\"\"\n",
    "    base_model is the name of the model for any one fold, e.g. the first fold, without epoch info\n",
    "    \"\"\"\n",
    "    model_name_p1 = base_model.split('.k')[0]\n",
    "    model_name_p2 = base_model.split('.lr')[1]\n",
    "    print(model_name_p1, model_name_p2)\n",
    "\n",
    "    folds = [0, 1, 2, 3, 4]\n",
    "    result_folders = [f'{res_base_dir}/fold{fold}' for fold in folds]\n",
    "    base_model_names = [f'{model_name_p1}.k{fold}.lr{model_name_p2}' for fold in folds]\n",
    "\n",
    "    \n",
    "    # Get max epochs\n",
    "    max_epochs = []\n",
    "    for fold_dir, model_name in zip(result_folders, base_model_names):\n",
    "        max_epoch = -1\n",
    "        for file in os.listdir(fold_dir):\n",
    "            if file.startswith(model_name):\n",
    "                file_name = file[:-3]  # Skip last 3 (file ending)\n",
    "                epoch = int(file.split('_e')[1])  # get number after e\n",
    "                if epoch > max_epoch:\n",
    "                    max_epoch = epoch\n",
    "        max_epochs.append(max_epoch)\n",
    "    \n",
    "    print('max epochs', max_epochs)\n",
    "    # Get results, given max epochs\n",
    "    total_val_preds = []\n",
    "    total_val_targets = []\n",
    "    total_val_samples = []\n",
    "    model_names = [f'{base_name}_e{epoch}' for base_name, epoch in zip(base_model_names, max_epochs)]\n",
    "    for result_folder, model_name in zip(result_folders, model_names):\n",
    "        res_subdir = os.path.join(result_folder, model_name)\n",
    "        val_preds = np.load(os.path.join(res_subdir, 'val_preds_' + model_name + '.npy'))\n",
    "        total_val_preds.extend(val_preds)\n",
    "        val_targets = np.load(os.path.join(res_subdir, 'val_targets_' + model_name + '.npy'))\n",
    "        total_val_targets.extend(val_targets)\n",
    "        val_samples = np.load(os.path.join(res_subdir, 'val_samples_' + model_name + '.npy'))\n",
    "        total_val_samples.extend(val_samples)\n",
    "    \n",
    "    print_all_metrics(total_val_targets, total_val_preds)\n",
    "    return total_val_samples, total_val_targets, total_val_preds"
   ]
  },
  {
   "cell_type": "code",
   "execution_count": 46,
   "id": "79fc9f17",
   "metadata": {},
   "outputs": [],
   "source": [
    "# Augment, histo, balanced data per epoch"
   ]
  },
  {
   "cell_type": "code",
   "execution_count": 72,
   "id": "4c8028bd",
   "metadata": {},
   "outputs": [
    {
     "name": "stdout",
     "output_type": "stream",
     "text": [
      "[30, 31, 34, 36, 37, 38, 39, 41, 48, 49, 50, 55, 56, 57, 58, 60, 61, 62, 67, 68, 69, 71, 72, 73, 78, 79, 82, 86, 87, 88, 90, 91, 92, 93, 94, 95, 96, 97, 99, 100, 101, 103, 104, 105, 107, 108, 110, 111, 112, 113, 115, 118, 119, 120, 121, 123, 124, 130, 131, 132, 133, 135, 136, 137, 138, 139, 143, 144, 145, 146, 147, 149, 150, 151, 155, 157, 159, 160, 161, 162, 164, 165, 167, 168, 170, 172, 174, 175, 176, 177, 178, 179, 183, 186, 187, 188, 189, 191, 192, 193, 194, 195, 196, 198, 200, 202, 203, 204, 208, 209, 210, 211, 213, 214, 215, 216, 219, 221, 223, 225, 227, 228, 230, 231, 232, 233, 234, 235, 237, 239]\n"
     ]
    }
   ],
   "source": [
    "unique_val_samples = [int(s) for s in np.unique(patients)]\n",
    "print(sorted(unique_val_samples))\n",
    "dict = "
   ]
  },
  {
   "cell_type": "code",
   "execution_count": 134,
   "id": "8f9eae7f",
   "metadata": {},
   "outputs": [
    {
     "name": "stdout",
     "output_type": "stream",
     "text": [
      "[17, 18, 24, 25, 27, 35, 45, 46, 47, 48, 57, 66, 67]\n"
     ]
    }
   ],
   "source": [
    "patient = 192\n",
    "frames = []\n",
    "for s in samples:\n",
    "    if s.startswith(str(patient)):\n",
    "        frames.append(int(s.split('_')[1]))\n",
    "print(frames)"
   ]
  },
  {
   "cell_type": "code",
   "execution_count": 124,
   "id": "47be42d3",
   "metadata": {},
   "outputs": [
    {
     "name": "stdout",
     "output_type": "stream",
     "text": [
      "159_46\n",
      "159_47\n",
      "159_48\n",
      "159_49\n",
      "159_50\n",
      "159_56\n",
      "159_57\n",
      "159_58\n",
      "159_59\n",
      "159_70\n",
      "159_90\n",
      "159_91\n",
      "159_124\n"
     ]
    }
   ],
   "source": [
    "for s in samples:\n",
    "    if s.startswith('159'):\n",
    "        print(s)"
   ]
  },
  {
   "cell_type": "code",
   "execution_count": 142,
   "id": "4dba617c",
   "metadata": {
    "scrolled": false
   },
   "outputs": [
    {
     "name": "stdout",
     "output_type": "stream",
     "text": [
      "104 0.15384615384615385 1\n",
      "124 0.07692307692307693 1\n",
      "137 0.0 1\n",
      "159 0.0 1\n",
      "160 0.0 1\n",
      "192 0.3076923076923077 1\n",
      "195 0.21428571428571427 1\n",
      "214 0.0 1\n",
      "94 0.3333333333333333 1\n",
      "              precision    recall  f1-score   support\n",
      "\n",
      "           0       0.89      0.82      0.85        87\n",
      "           1       0.68      0.79      0.73        43\n",
      "\n",
      "    accuracy                           0.81       130\n",
      "   macro avg       0.78      0.80      0.79       130\n",
      "weighted avg       0.82      0.81      0.81       130\n",
      "\n",
      "[[71 16]\n",
      " [ 9 34]]\n",
      "\n",
      "f1 macro: 0.79\n",
      "f1 micro: 0.81\n",
      "f1 binary: 0.73\n",
      "f1 weighted: 0.81\n",
      "\n",
      "roc_auc macro: 0.80\n",
      "roc_auc micro: 0.80\n",
      "roc_auc weighted: 0.80\n",
      "\n",
      "balanced accuracy: 0.80\n"
     ]
    }
   ],
   "source": [
    "preds_per_sample = []\n",
    "targets_per_sample = []\n",
    "for id in unique_val_samples:\n",
    "# for id in [135, 137, 155, 159, 160, 162, 214]:\n",
    "    p_samples, p_targets, p_preds = res_for_patient(samples, targets, preds, patient_id=id)\n",
    "    p_preds = np.asarray(p_preds)\n",
    "\n",
    "    percentage_label_1 = p_preds.sum()/len(p_preds)\n",
    "    if p_targets[0] == 1 and percentage_label_1 < 0.4:\n",
    "        print(id, percentage_label_1, p_targets[0])\n",
    "    if percentage_label_1 >= 0.5:\n",
    "        pred = 1\n",
    "    else:\n",
    "        pred = 0\n",
    "\n",
    "    preds_per_sample.append(pred)\n",
    "    targets_per_sample.append(p_targets[0]) # always same target val\n",
    "\n",
    "print_all_metrics(targets_per_sample, preds_per_sample)"
   ]
  },
  {
   "cell_type": "code",
   "execution_count": 80,
   "id": "de2a7bc3",
   "metadata": {},
   "outputs": [
    {
     "name": "stdout",
     "output_type": "stream",
     "text": [
      "res_simple_adamw_lt_2d _0.001.batch_128_aug_bal_hist_drop0.5\n",
      "max epochs [10, 14, 120, 250, 152]\n",
      "              precision    recall  f1-score   support\n",
      "\n",
      "           0       0.87      0.78      0.82      1694\n",
      "           1       0.64      0.77      0.70       846\n",
      "\n",
      "    accuracy                           0.78      2540\n",
      "   macro avg       0.75      0.78      0.76      2540\n",
      "weighted avg       0.79      0.78      0.78      2540\n",
      "\n",
      "[[1326  368]\n",
      " [ 196  650]]\n",
      "\n",
      "f1 macro: 0.76\n",
      "f1 micro: 0.78\n",
      "f1 binary: 0.70\n",
      "f1 weighted: 0.78\n",
      "\n",
      "roc_auc macro: 0.78\n",
      "roc_auc micro: 0.78\n",
      "roc_auc weighted: 0.78\n",
      "\n",
      "balanced accuracy: 0.78\n"
     ]
    }
   ],
   "source": [
    "# samples always same for all models (could actually just store 1x => order same bc don't shuffle valid data)\n",
    "samples, targets, preds = get_results('res_simple_adamw_lt_2d.k0.lr_0.001.batch_128_aug_bal_hist_drop0.5', res_base_dir)"
   ]
  },
  {
   "cell_type": "code",
   "execution_count": 65,
   "id": "9d7c2983",
   "metadata": {},
   "outputs": [
    {
     "name": "stdout",
     "output_type": "stream",
     "text": [
      "len x 195\n",
      "len unique 130\n",
      "no repeated patients 65\n"
     ]
    }
   ],
   "source": [
    "patients = [s.split('_')[0] for s in samples]\n",
    "# print(patients[0])\n",
    "x = []\n",
    "x.append(patients[0])\n",
    "for i in range(len(patients)):\n",
    "    if i > 0:\n",
    "        if patients[i] != patients[i - 1]:\n",
    "            # print(patients[i])\n",
    "            x.append(patients[i])\n",
    "print('len x', len(x))\n",
    "print('len unique', len(np.unique(patients)))\n",
    "print('no repeated patients', len(x) - len(np.unique(patients))) # 65 repeated patients (!)"
   ]
  },
  {
   "cell_type": "code",
   "execution_count": 64,
   "id": "ee57aa30",
   "metadata": {},
   "outputs": [
    {
     "name": "stdout",
     "output_type": "stream",
     "text": [
      "res_simple_adamw_lt_2d _0.001.batch_128_aug_w_hist_drop0.5\n",
      "max epochs [38, 152, 226, 38, 38]\n",
      "              precision    recall  f1-score   support\n",
      "\n",
      "           0       0.83      0.81      0.82      1694\n",
      "           1       0.63      0.67      0.65       846\n",
      "\n",
      "    accuracy                           0.76      2540\n",
      "   macro avg       0.73      0.74      0.74      2540\n",
      "weighted avg       0.77      0.76      0.76      2540\n",
      "\n",
      "[[1367  327]\n",
      " [ 278  568]]\n",
      "\n",
      "f1 macro: 0.74\n",
      "f1 micro: 0.76\n",
      "f1 binary: 0.65\n",
      "f1 weighted: 0.76\n",
      "\n",
      "roc_auc macro: 0.74\n",
      "roc_auc micro: 0.74\n",
      "roc_auc weighted: 0.74\n",
      "\n",
      "balanced accuracy: 0.74\n"
     ]
    }
   ],
   "source": [
    "get_results('res_simple_adamw_lt_2d.k0.lr_0.001.batch_128_aug_w_hist_drop0.5', res_base_dir)"
   ]
  },
  {
   "cell_type": "code",
   "execution_count": 33,
   "id": "841f03d9",
   "metadata": {},
   "outputs": [
    {
     "name": "stdout",
     "output_type": "stream",
     "text": [
      "res_simple_adamw_lt_2d _0.001.batch_128_hist_drop0.5\n",
      "max epochs [162, 164, 64, 276, 66]\n",
      "              precision    recall  f1-score   support\n",
      "\n",
      "           0       0.84      0.82      0.83      1694\n",
      "           1       0.65      0.70      0.67       846\n",
      "\n",
      "    accuracy                           0.78      2540\n",
      "   macro avg       0.75      0.76      0.75      2540\n",
      "weighted avg       0.78      0.78      0.78      2540\n",
      "\n",
      "[[1381  313]\n",
      " [ 257  589]]\n",
      "\n",
      "f1 macro: 0.75\n",
      "f1 micro: 0.78\n",
      "f1 binary: 0.67\n",
      "f1 weighted: 0.78\n",
      "\n",
      "roc_auc macro: 0.76\n",
      "roc_auc micro: 0.76\n",
      "roc_auc weighted: 0.76\n",
      "\n",
      "balanced accuracy: 0.76\n"
     ]
    }
   ],
   "source": [
    "get_results('res_simple_adamw_lt_2d.k0.lr_0.001.batch_128_hist_drop0.5', res_base_dir)"
   ]
  },
  {
   "cell_type": "code",
   "execution_count": 36,
   "id": "c7fd50c9",
   "metadata": {},
   "outputs": [
    {
     "name": "stdout",
     "output_type": "stream",
     "text": [
      "res_simple_adamw_lt_2d _0.0001.batch_128_aug_bal_hist_drop0.5\n",
      "max epochs [18, 42, 244, 202, 266]\n",
      "              precision    recall  f1-score   support\n",
      "\n",
      "           0       0.83      0.76      0.79      1694\n",
      "           1       0.58      0.68      0.63       846\n",
      "\n",
      "    accuracy                           0.73      2540\n",
      "   macro avg       0.70      0.72      0.71      2540\n",
      "weighted avg       0.75      0.73      0.74      2540\n",
      "\n",
      "[[1282  412]\n",
      " [ 269  577]]\n",
      "\n",
      "f1 macro: 0.71\n",
      "f1 micro: 0.73\n",
      "f1 binary: 0.63\n",
      "f1 weighted: 0.74\n",
      "\n",
      "roc_auc macro: 0.72\n",
      "roc_auc micro: 0.72\n",
      "roc_auc weighted: 0.72\n",
      "\n",
      "balanced accuracy: 0.72\n"
     ]
    }
   ],
   "source": [
    "get_results('res_simple_adamw_lt_2d.k0.lr_0.0001.batch_128_aug_bal_hist_drop0.5', res_base_dir)"
   ]
  },
  {
   "cell_type": "code",
   "execution_count": 38,
   "id": "867a0a03",
   "metadata": {},
   "outputs": [
    {
     "name": "stdout",
     "output_type": "stream",
     "text": [
      "res_simple_adamw_lt_2d _0.0001.batch_128_aug_w_hist_drop0.5\n",
      "max epochs [40, 54, 112, 198, 254]\n",
      "              precision    recall  f1-score   support\n",
      "\n",
      "           0       0.86      0.70      0.77      1694\n",
      "           1       0.56      0.76      0.65       846\n",
      "\n",
      "    accuracy                           0.72      2540\n",
      "   macro avg       0.71      0.73      0.71      2540\n",
      "weighted avg       0.76      0.72      0.73      2540\n",
      "\n",
      "[[1189  505]\n",
      " [ 201  645]]\n",
      "\n",
      "f1 macro: 0.71\n",
      "f1 micro: 0.72\n",
      "f1 binary: 0.65\n",
      "f1 weighted: 0.73\n",
      "\n",
      "roc_auc macro: 0.73\n",
      "roc_auc micro: 0.73\n",
      "roc_auc weighted: 0.73\n",
      "\n",
      "balanced accuracy: 0.73\n"
     ]
    }
   ],
   "source": [
    "get_results('res_simple_adamw_lt_2d.k0.lr_0.0001.batch_128_aug_w_hist_drop0.5', res_base_dir)"
   ]
  },
  {
   "cell_type": "code",
   "execution_count": 37,
   "id": "a3e76d67",
   "metadata": {},
   "outputs": [
    {
     "name": "stdout",
     "output_type": "stream",
     "text": [
      "res_simple_adamw_lt_2d _0.001.batch_1280.0510.0_aug_bal_hist_drop0.5\n",
      "max epochs [12, 6, 30, 12, 16]\n",
      "              precision    recall  f1-score   support\n",
      "\n",
      "           0       0.83      0.70      0.76      1694\n",
      "           1       0.54      0.71      0.61       846\n",
      "\n",
      "    accuracy                           0.70      2540\n",
      "   macro avg       0.68      0.70      0.68      2540\n",
      "weighted avg       0.73      0.70      0.71      2540\n",
      "\n",
      "[[1179  515]\n",
      " [ 244  602]]\n",
      "\n",
      "f1 macro: 0.68\n",
      "f1 micro: 0.70\n",
      "f1 binary: 0.61\n",
      "f1 weighted: 0.71\n",
      "\n",
      "roc_auc macro: 0.70\n",
      "roc_auc micro: 0.70\n",
      "roc_auc weighted: 0.70\n",
      "\n",
      "balanced accuracy: 0.70\n"
     ]
    }
   ],
   "source": [
    "get_results('res_simple_adamw_lt_2d.k0.lr_0.001.batch_1280.0510.0_aug_bal_hist_drop0.5', res_base_dir)"
   ]
  },
  {
   "cell_type": "code",
   "execution_count": 39,
   "id": "57b29150",
   "metadata": {},
   "outputs": [
    {
     "name": "stdout",
     "output_type": "stream",
     "text": [
      "res_simple_adamw_lt_2d _0.001.batch_128_aug_bal_hist_drop0.25\n",
      "max epochs [84, 128, 110, 130, 176]\n",
      "              precision    recall  f1-score   support\n",
      "\n",
      "           0       0.85      0.82      0.83      1694\n",
      "           1       0.66      0.71      0.68       846\n",
      "\n",
      "    accuracy                           0.78      2540\n",
      "   macro avg       0.75      0.76      0.76      2540\n",
      "weighted avg       0.79      0.78      0.78      2540\n",
      "\n",
      "[[1384  310]\n",
      " [ 245  601]]\n",
      "\n",
      "f1 macro: 0.76\n",
      "f1 micro: 0.78\n",
      "f1 binary: 0.68\n",
      "f1 weighted: 0.78\n",
      "\n",
      "roc_auc macro: 0.76\n",
      "roc_auc micro: 0.76\n",
      "roc_auc weighted: 0.76\n",
      "\n",
      "balanced accuracy: 0.76\n"
     ]
    }
   ],
   "source": [
    "get_results('res_simple_adamw_lt_2d.k0.lr_0.001.batch_128_aug_bal_hist_drop0.25', res_base_dir)"
   ]
  },
  {
   "cell_type": "code",
   "execution_count": 40,
   "id": "11359497",
   "metadata": {},
   "outputs": [
    {
     "name": "stdout",
     "output_type": "stream",
     "text": [
      "res_simple_adamw_lt_2d _0.001.batch_128_aug_w_hist_drop0.25\n",
      "max epochs [170, 8, 234, 134, 210]\n",
      "              precision    recall  f1-score   support\n",
      "\n",
      "           0       0.84      0.80      0.82      1694\n",
      "           1       0.63      0.69      0.66       846\n",
      "\n",
      "    accuracy                           0.76      2540\n",
      "   macro avg       0.73      0.74      0.74      2540\n",
      "weighted avg       0.77      0.76      0.76      2540\n",
      "\n",
      "[[1348  346]\n",
      " [ 261  585]]\n",
      "\n",
      "f1 macro: 0.74\n",
      "f1 micro: 0.76\n",
      "f1 binary: 0.66\n",
      "f1 weighted: 0.76\n",
      "\n",
      "roc_auc macro: 0.74\n",
      "roc_auc micro: 0.74\n",
      "roc_auc weighted: 0.74\n",
      "\n",
      "balanced accuracy: 0.74\n"
     ]
    }
   ],
   "source": [
    "get_results('res_simple_adamw_lt_2d.k4.lr_0.001.batch_128_aug_w_hist_drop0.25', res_base_dir)"
   ]
  },
  {
   "cell_type": "code",
   "execution_count": 41,
   "id": "f40e5c35",
   "metadata": {},
   "outputs": [
    {
     "name": "stdout",
     "output_type": "stream",
     "text": [
      "res_simple_adamw_lt_2d _0.001.batch_128_aug_bal_hist_drop0.6\n",
      "max epochs [16, 230, 110, 250, 144]\n",
      "              precision    recall  f1-score   support\n",
      "\n",
      "           0       0.85      0.81      0.83      1694\n",
      "           1       0.65      0.71      0.68       846\n",
      "\n",
      "    accuracy                           0.78      2540\n",
      "   macro avg       0.75      0.76      0.75      2540\n",
      "weighted avg       0.78      0.78      0.78      2540\n",
      "\n",
      "[[1373  321]\n",
      " [ 246  600]]\n",
      "\n",
      "f1 macro: 0.75\n",
      "f1 micro: 0.78\n",
      "f1 binary: 0.68\n",
      "f1 weighted: 0.78\n",
      "\n",
      "roc_auc macro: 0.76\n",
      "roc_auc micro: 0.76\n",
      "roc_auc weighted: 0.76\n",
      "\n",
      "balanced accuracy: 0.76\n"
     ]
    }
   ],
   "source": [
    "get_results('res_simple_adamw_lt_2d.k4.lr_0.001.batch_128_aug_bal_hist_drop0.6', res_base_dir)"
   ]
  },
  {
   "cell_type": "code",
   "execution_count": 42,
   "id": "0fdd747b",
   "metadata": {},
   "outputs": [
    {
     "name": "stdout",
     "output_type": "stream",
     "text": [
      "res_simple_adamw_lt_2d _0.001.batch_128_aug_w_hist_drop0.6\n",
      "max epochs [60, 44, 106, 276, 72]\n",
      "              precision    recall  f1-score   support\n",
      "\n",
      "           0       0.85      0.82      0.83      1694\n",
      "           1       0.66      0.71      0.68       846\n",
      "\n",
      "    accuracy                           0.78      2540\n",
      "   macro avg       0.75      0.76      0.76      2540\n",
      "weighted avg       0.78      0.78      0.78      2540\n",
      "\n",
      "[[1382  312]\n",
      " [ 247  599]]\n",
      "\n",
      "f1 macro: 0.76\n",
      "f1 micro: 0.78\n",
      "f1 binary: 0.68\n",
      "f1 weighted: 0.78\n",
      "\n",
      "roc_auc macro: 0.76\n",
      "roc_auc micro: 0.76\n",
      "roc_auc weighted: 0.76\n",
      "\n",
      "balanced accuracy: 0.76\n"
     ]
    }
   ],
   "source": [
    "get_results('res_simple_adamw_lt_2d.k4.lr_0.001.batch_128_aug_w_hist_drop0.6', res_base_dir)"
   ]
  },
  {
   "cell_type": "code",
   "execution_count": null,
   "id": "92865bf7",
   "metadata": {},
   "outputs": [],
   "source": []
  }
 ],
 "metadata": {
  "kernelspec": {
   "display_name": "Python 3 (ipykernel)",
   "language": "python",
   "name": "python3"
  },
  "language_info": {
   "codemirror_mode": {
    "name": "ipython",
    "version": 3
   },
   "file_extension": ".py",
   "mimetype": "text/x-python",
   "name": "python",
   "nbconvert_exporter": "python",
   "pygments_lexer": "ipython3",
   "version": "3.9.7"
  }
 },
 "nbformat": 4,
 "nbformat_minor": 5
}
